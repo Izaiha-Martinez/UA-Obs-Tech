{
 "cells": [
  {
   "cell_type": "code",
   "execution_count": 1,
   "id": "97ccbdb1",
   "metadata": {},
   "outputs": [],
   "source": [
    "import numpy as np \n",
    "import pandas as pd\n",
    "import matplotlib.pyplot as plt\n",
    "from astroquery.gaia import Gaia\n",
    "\n",
    "from astropy.coordinates import SkyCoord, Galactic\n",
    "import astropy.units as u"
   ]
  },
  {
   "cell_type": "markdown",
   "id": "2acf0a80",
   "metadata": {},
   "source": [
    "# Pulling the Unresolved Binaries from O'Brien (Table A4)"
   ]
  },
  {
   "cell_type": "code",
   "execution_count": 2,
   "id": "34324f4a",
   "metadata": {},
   "outputs": [],
   "source": [
    "query = \"\"\"\n",
    "SELECT\n",
    "    gs.source_id,                \n",
    "    gs.ra,                      \n",
    "    gs.dec,                     \n",
    "    gs.parallax,               \n",
    "    gs.phot_g_mean_mag,  -- absolute\n",
    "    gs.phot_g_mean_flux, -- apparent   \n",
    "    gs.phot_bp_mean_mag,  -- absolute\n",
    "    gs.phot_bp_mean_flux, -- apparent   \n",
    "    gs.phot_rp_mean_mag,  -- absolute\n",
    "    gs.phot_rp_mean_flux, -- apparent     \n",
    "    ap.classprob_dsc_combmod_whitedwarf, \n",
    "    ap.classprob_dsc_combmod_binarystar,\n",
    "    ap.teff_gspphot,\n",
    "    ap.lum_flame,\n",
    "    ap.radius_flame,\n",
    "    ap.mass_flame\n",
    "FROM\n",
    "    gaiadr3.gaia_source AS gs   \n",
    "LEFT JOIN\n",
    "    gaiadr3.astrophysical_parameters AS ap ON gs.source_id = ap.source_id\n",
    "WHERE\n",
    "    gs.source_id IN (\n",
    "        1355264565043431040, \n",
    "        3223516063958808064,\n",
    "        1005873614080407296,\n",
    "        2185710338703934976,\n",
    "        4788741548375134336,\n",
    "        6431977687725247104,\n",
    "        3729017810434416128,\n",
    "        1548104507825815296,\n",
    "        1550299304833675392,\n",
    "        4478524169500496000,\n",
    "        2643862402903084544,\n",
    "        3845263368043086080,\n",
    "        759601941671398272,\n",
    "        3000597125173673088\n",
    "    )\n",
    "\"\"\"\n"
   ]
  },
  {
   "cell_type": "code",
   "execution_count": 3,
   "id": "cdeb6401",
   "metadata": {},
   "outputs": [],
   "source": [
    "job = Gaia.launch_job(query)\n",
    "results = job.get_results()"
   ]
  },
  {
   "cell_type": "markdown",
   "id": "9b6b7a16",
   "metadata": {},
   "source": [
    "# Galactocentric coordinates"
   ]
  },
  {
   "cell_type": "code",
   "execution_count": 4,
   "id": "e30af224",
   "metadata": {},
   "outputs": [],
   "source": [
    "# Turning the string into integers\n",
    "parallax = results['parallax']\n",
    "parallax = np.array(parallax)\n",
    "\n",
    "ra = results['ra']\n",
    "ra = np.array(ra)\n",
    "\n",
    "dec = results['dec']\n",
    "dec = np.array(dec)\n",
    "\n",
    "#using parallax for postion \n",
    "arcsecond = parallax/1000\n",
    "distance = abs(1/arcsecond)\n",
    "coords = SkyCoord(ra*u.deg, dec*u.deg, distance*u.pc , frame='icrs')\n",
    "galactic = coords.transform_to(Galactic)\n",
    "\n",
    "#gives postions \n",
    "X = (galactic.cartesian.x)/u.pc\n",
    "Y = (galactic.cartesian.y)/u.pc\n",
    "Z = (galactic.cartesian.z)/u.pc"
   ]
  },
  {
   "cell_type": "code",
   "execution_count": 5,
   "id": "c440bfa6",
   "metadata": {},
   "outputs": [],
   "source": [
    "# Create a dictionary with the results and the boundary parameters\n",
    "data = {\n",
    "    'source_id' : results['source_id'],\n",
    "    'ra' : results['ra'],\n",
    "    'dec' : results['dec'],\n",
    "    'parallax' : results['parallax'],\n",
    "    'G_mag' : results['phot_g_mean_mag'],\n",
    "    'g_flux' : results['phot_g_mean_flux'],         # [e/s]\n",
    "    'BP_mag' : results['phot_bp_mean_mag'],\n",
    "    'bp_flux' : results['phot_bp_mean_flux'],       # [e/s]\n",
    "    'RP_mag' : results['phot_rp_mean_mag'],\n",
    "    'rp_flux' : results['phot_rp_mean_flux'],       # [e/s]\n",
    "    'WD_prob' : results['classprob_dsc_combmod_whitedwarf'],\n",
    "    'Binary_prob' : results['classprob_dsc_combmod_binarystar'],\n",
    "    'T_eff' : results['teff_gspphot'],\n",
    "    'lum_flame' : results['lum_flame'],\n",
    "    'radius_flame' : results['radius_flame'],\n",
    "    'mass_flame' : results['mass_flame'],\n",
    "    'X' : X,\n",
    "    'Y' : Y,\n",
    "    'Z' : Z \n",
    "}\n",
    "#df = pd.DataFrame(data)"
   ]
  },
  {
   "cell_type": "code",
   "execution_count": 6,
   "id": "dc00c5e0",
   "metadata": {},
   "outputs": [],
   "source": [
    "# plt.scatter(df['X'], df['Y'], c='k', s=5)\n",
    "# plt.xlabel('X axis (pc)')\n",
    "# plt.ylabel('Y axis (pc)')"
   ]
  },
  {
   "cell_type": "markdown",
   "id": "2adb0c4c",
   "metadata": {},
   "source": [
    "# Exposure Times"
   ]
  },
  {
   "cell_type": "code",
   "execution_count": 7,
   "id": "441b40c0",
   "metadata": {},
   "outputs": [],
   "source": [
    "# when the bands get saturated \n",
    "Sat_lim_UVB = 41300     #e\n",
    "Sat_lim_VIS = 41900     #e\n",
    "Sat_lim_NIR = 103000    #e\n",
    "# We decided to go with a SNR of 500 \n",
    "SNR = 500"
   ]
  },
  {
   "cell_type": "code",
   "execution_count": 8,
   "id": "19ea2f7f",
   "metadata": {},
   "outputs": [],
   "source": [
    "# # Testing the math\n",
    "# e_count = SNR**2\n",
    "\n",
    "# bp = df['bp_flux'][10] \n",
    "# g = df['g_flux'][10]\n",
    "# rp = df['rp_flux'][10]\n",
    "\n",
    "# # min exposure time per band \n",
    "# min_time_uvb = e_count / bp     #[sec]\n",
    "# print(min_time_uvb)\n",
    "# min_time_vis = e_count / g      #[sec]\n",
    "# min_time_nir = e_count / rp     #[sec]\n",
    "\n",
    "# # Time it takes for the filter to become saturated\n",
    "# S_time_uvb = Sat_lim_UVB / bp          #[sec]\n",
    "# print(S_time_uvb)\n",
    "# S_time_vis = Sat_lim_VIS / g           #[sec]\n",
    "# S_time_nir = Sat_lim_NIR / rp          #[sec]\n",
    "    \n",
    "# # Get the whole number of exposures to prevent saturation, then add 1\n",
    "# Num_exp_uvb = int(min_time_uvb // S_time_uvb ) + 1\n",
    "# print(Num_exp_uvb)\n",
    "# Num_exp_vis = int(min_time_vis // S_time_vis ) + 1\n",
    "# Num_exp_nir = int(min_time_nir // S_time_nir ) + 1\n",
    "\n",
    "# # Time for each exposure, based on what is smaller, saturation time or the min time \n",
    "# Time_per_uvb = min_time_uvb / Num_exp_uvb\n",
    "# print(Time_per_uvb)\n",
    "# Time_per_vis = min_time_vis / Num_exp_vis\n",
    "# Time_per_nir = min_time_nir / Num_exp_nir\n",
    "\n",
    "# print('UVB:', Num_exp_uvb, Time_per_uvb, (Num_exp_uvb * Time_per_uvb))\n",
    "# print('VIS:', Num_exp_vis, Time_per_vis, (Num_exp_vis * Time_per_vis))\n",
    "# print('NIR:', Num_exp_nir, Time_per_nir, (Num_exp_nir * Time_per_nir))\n",
    "\n",
    "# ### Cool it works lets make it a function to automate over all the candidates & append the values "
   ]
  },
  {
   "cell_type": "code",
   "execution_count": 9,
   "id": "bac2a173",
   "metadata": {},
   "outputs": [],
   "source": [
    "# SNR, next 3 are the flux for each source, next 3 are the saturation constants\n",
    "def min_exp(SNR, bp, g, rp, S_bp, S_g, S_rp):\n",
    "    # SNR = N**(1/2), therefore we need an electron count of \n",
    "    e_count = SNR**2\n",
    "\n",
    "    # min exposure time per band \n",
    "    min_time_uvb = e_count / bp     #[sec]\n",
    "    min_time_vis = e_count / g      #[sec]\n",
    "    min_time_nir = e_count / rp     #[sec]\n",
    "\n",
    "    # Time it takes for the filter to become saturated\n",
    "    S_time_uvb = S_bp / bp          #[sec]\n",
    "    S_time_vis = S_g / g            #[sec]\n",
    "    S_time_nir = S_rp / rp          #[sec]\n",
    "    \n",
    "    # Get the whole number of exposures to prevent saturation, then add 1\n",
    "    Num_exp_uvb = int(min_time_uvb // S_time_uvb ) + 1\n",
    "    Num_exp_vis = int(min_time_vis // S_time_vis ) + 1\n",
    "    Num_exp_nir = int(min_time_nir // S_time_nir ) + 1\n",
    "\n",
    "    # Time for each exposure \n",
    "    Time_per_uvb = min_time_uvb / Num_exp_uvb\n",
    "    Time_per_vis = min_time_vis / Num_exp_vis\n",
    "    Time_per_nir = min_time_nir / Num_exp_nir\n",
    "\n",
    "    return  {\n",
    "        'Num_exp_uvb': Num_exp_uvb,\n",
    "        'Time_per_uvb': Time_per_uvb,\n",
    "        'Total_time_uvb': Num_exp_uvb * Time_per_uvb,\n",
    "\n",
    "        'Num_exp_vis': Num_exp_vis,\n",
    "        'Time_per_vis': Time_per_vis,\n",
    "        'Total_time_vis': Num_exp_vis * Time_per_vis,\n",
    "\n",
    "        'Num_exp_nir': Num_exp_nir,\n",
    "        'Time_per_nir': Time_per_nir,\n",
    "        'Total_time_nir': Num_exp_nir * Time_per_nir,\n",
    "    }"
   ]
  },
  {
   "cell_type": "code",
   "execution_count": 10,
   "id": "82ac8909",
   "metadata": {},
   "outputs": [],
   "source": [
    "def times(row):\n",
    "    return min_exp(\n",
    "        SNR=SNR,\n",
    "        bp=row['bp_flux'],\n",
    "        g=row['g_flux'],\n",
    "        rp=row['rp_flux'],\n",
    "        S_bp=Sat_lim_UVB,\n",
    "        S_g=Sat_lim_VIS,\n",
    "        S_rp=Sat_lim_NIR\n",
    "    )\n",
    "\n",
    "# exp_results = df.apply(times, axis=1)\n",
    "\n",
    "# exp_df = pd.DataFrame(exp_results.tolist())\n",
    "# df = pd.concat([df, exp_df], axis=1)"
   ]
  },
  {
   "cell_type": "markdown",
   "id": "8c4b9dd0",
   "metadata": {},
   "source": [
    "# Saving the Data"
   ]
  },
  {
   "cell_type": "code",
   "execution_count": 11,
   "id": "371a1a2f",
   "metadata": {},
   "outputs": [],
   "source": [
    "#df.to_csv('Exposure_time_estimates.csv', index=False)"
   ]
  },
  {
   "cell_type": "markdown",
   "id": "d076e1f7",
   "metadata": {},
   "source": [
    "# Call on the file"
   ]
  },
  {
   "cell_type": "code",
   "execution_count": 12,
   "id": "13081e0c",
   "metadata": {},
   "outputs": [],
   "source": [
    "# Uncomment for Macbook Pro\n",
    "#df = pd.read_csv('/Users/izaihamartinez/Downloads/School/Observational Tech/Exposure_time_estimates.csv')\n",
    "# Uncomment for Macbook Air\n",
    "df = pd.read_csv('/Users/izaihamartinez/Downloads/School/Courses/UA-Obs-Tech/Exposure_time_estimates.csv')\n",
    "# Uncomment for PC\n",
    "#df = pd.read_csv(r'C:\\Users\\izaih\\Downloads\\UA\\Courses\\UA-Obs-Tech\\Exposure_time_estimates.csv')"
   ]
  },
  {
   "cell_type": "markdown",
   "id": "78934509",
   "metadata": {},
   "source": [
    "# Looking at the RA & DEC "
   ]
  },
  {
   "cell_type": "code",
   "execution_count": 13,
   "id": "72c71b37",
   "metadata": {},
   "outputs": [
    {
     "data": {
      "text/plain": [
       "Text(0, 0.5, 'dec (deg)')"
      ]
     },
     "execution_count": 13,
     "metadata": {},
     "output_type": "execute_result"
    },
    {
     "data": {
      "image/png": "[encoded data removed]",
      "text/plain": [
       "<Figure size 640x480 with 1 Axes>"
      ]
     },
     "metadata": {},
     "output_type": "display_data"
    }
   ],
   "source": [
    "plt.scatter(df['ra'], df['dec'], c='k', s=5)\n",
    "plt.xlabel('ra (deg)')\n",
    "plt.ylabel('dec (deg)')"
   ]
  },
  {
   "cell_type": "markdown",
   "id": "2afcad8e",
   "metadata": {},
   "source": [
    "# Using Astroplan"
   ]
  },
  {
   "cell_type": "code",
   "execution_count": 14,
   "id": "7f8ad237",
   "metadata": {},
   "outputs": [],
   "source": [
    "#pip install astroplan"
   ]
  },
  {
   "cell_type": "code",
   "execution_count": 15,
   "id": "e7f941ed",
   "metadata": {},
   "outputs": [],
   "source": [
    "from astroplan import Observer, FixedTarget, ObservingBlock\n",
    "from astroplan.constraints import AtNightConstraint, AirmassConstraint, TimeConstraint\n",
    "from astroplan.scheduling import Transitioner, PriorityScheduler, Schedule\n",
    "from astroplan.plots import plot_schedule_airmass\n",
    "from astropy.time import Time\n",
    "from datetime import timedelta"
   ]
  },
  {
   "cell_type": "code",
   "execution_count": 16,
   "id": "5bbb274b",
   "metadata": {},
   "outputs": [],
   "source": [
    "# I need to set the location to VLT, it is at the Cerro Paranal, Mountain\n",
    "vlt_location = Observer.at_site('paranal')\n",
    "\n",
    "# astroplan uses icrs coordinate system \n",
    "coords = [SkyCoord(ra=ra*u.deg, dec=dec*u.deg, frame='icrs') for ra, dec in zip(df['ra'], df['dec'])]\n",
    "\n",
    "# create a target list \n",
    "\n",
    "# added names so we can see which targets are observable \n",
    "names = [f\"T{i+1}\" for i in range(len(coords))]\n",
    "targets = [FixedTarget(coord=coord, name=name) for coord, name in zip(coords, names)]\n",
    "\n",
    "# added the targets to the df \n",
    "df['targets'] = targets"
   ]
  },
  {
   "cell_type": "code",
   "execution_count": 17,
   "id": "d00eaf58",
   "metadata": {},
   "outputs": [
    {
     "data": {
      "text/plain": [
       "[<FixedTarget \"T1\" at SkyCoord (ICRS): (ra, dec) in deg (173.92634511, 35.57310957)>,\n",
       " <FixedTarget \"T2\" at SkyCoord (ICRS): (ra, dec) in deg (91.37515254, 60.81940106)>,\n",
       " <FixedTarget \"T3\" at SkyCoord (ICRS): (ra, dec) in deg (257.38347212, 43.68010581)>,\n",
       " <FixedTarget \"T4\" at SkyCoord (ICRS): (ra, dec) in deg (183.93308097, 52.51643833)>,\n",
       " <FixedTarget \"T5\" at SkyCoord (ICRS): (ra, dec) in deg (201.72067979, 45.54552053)>,\n",
       " <FixedTarget \"T6\" at SkyCoord (ICRS): (ra, dec) in deg (301.25028584, 54.43021427)>,\n",
       " <FixedTarget \"T7\" at SkyCoord (ICRS): (ra, dec) in deg (352.37627645, -1.03600386)>,\n",
       " <FixedTarget \"T8\" at SkyCoord (ICRS): (ra, dec) in deg (93.9337227, -12.79141488)>,\n",
       " <FixedTarget \"T9\" at SkyCoord (ICRS): (ra, dec) in deg (83.43563712, 1.94471918)>,\n",
       " <FixedTarget \"T10\" at SkyCoord (ICRS): (ra, dec) in deg (197.21297744, 5.20421688)>,\n",
       " <FixedTarget \"T11\" at SkyCoord (ICRS): (ra, dec) in deg (276.59053098, 8.61367713)>,\n",
       " <FixedTarget \"T12\" at SkyCoord (ICRS): (ra, dec) in deg (65.27338195, -48.65433425)>,\n",
       " <FixedTarget \"T13\" at SkyCoord (ICRS): (ra, dec) in deg (282.08329337, -68.9316496)>]"
      ]
     },
     "execution_count": 17,
     "metadata": {},
     "output_type": "execute_result"
    }
   ],
   "source": [
    "targets"
   ]
  },
  {
   "cell_type": "markdown",
   "id": "3e8a591d",
   "metadata": {},
   "source": [
    "- UTC is 5 hours ahead of Tuscaloosa \n",
    "- UTC is 4 hours ahead of VLT "
   ]
  },
  {
   "cell_type": "code",
   "execution_count": 18,
   "id": "d4815a44",
   "metadata": {},
   "outputs": [],
   "source": [
    "# # Need to define the observing time (aka night time)\n",
    "# noon_before = Time('2025-07-06 19:00')\n",
    "# noon_after = Time('2025-07-07 19:00')\n",
    "# # I am going to put a week\n",
    "# start = Time('2025-07-06 19:00')\n",
    "# end = Time('2025-07-15 19:00')"
   ]
  },
  {
   "cell_type": "code",
   "execution_count": 19,
   "id": "7f97b548",
   "metadata": {},
   "outputs": [],
   "source": [
    "# this will allow me to constrain the observations to the night time & airmass\n",
    "\n",
    "# Define constraints (taken from the docmentation example)\n",
    "global_constraints = [AirmassConstraint(max = 3, boolean_constraint = False),\n",
    "                      AtNightConstraint.twilight_civil()]"
   ]
  },
  {
   "cell_type": "code",
   "execution_count": 20,
   "id": "cb350589",
   "metadata": {},
   "outputs": [],
   "source": [
    "# observing blocks for each object with the exposure times and number of exposures from above\n",
    "read_out = 20 * u.second\n",
    "blocks = []\n",
    "\n",
    "for idx, row in df.iterrows():    \n",
    "    # Use the calculated exposure time and number of exposures for each filter\n",
    "    block_uvb = ObservingBlock.from_exposures(\n",
    "        row['targets'], \n",
    "        priority=1, \n",
    "        time_per_exposure=row['Time_per_uvb']*u.second, \n",
    "        number_exposures=row['Num_exp_uvb'],\n",
    "        readout_time=read_out, \n",
    "        configuration = {'filter': 'UVB'},\n",
    "        constraints=global_constraints\n",
    "    )\n",
    "    blocks.append(block_uvb)\n",
    "\n",
    "    block_vis = ObservingBlock.from_exposures(\n",
    "        row['targets'], \n",
    "        priority=2, \n",
    "        time_per_exposure=row['Time_per_vis']*u.second, \n",
    "        number_exposures=row['Num_exp_vis'],\n",
    "        readout_time=read_out, \n",
    "        configuration = {'filter': 'VIS'},\n",
    "        constraints=global_constraints\n",
    "    )\n",
    "    blocks.append(block_vis)\n",
    "\n",
    "    block_nir = ObservingBlock.from_exposures(\n",
    "        row['targets'], \n",
    "        priority=3, \n",
    "        time_per_exposure=row['Time_per_nir']*u.second, \n",
    "        number_exposures=row['Num_exp_nir'],\n",
    "        readout_time=read_out, \n",
    "        configuration = {'filter': 'NIR'},\n",
    "        constraints=global_constraints\n",
    "    )\n",
    "    blocks.append(block_nir)"
   ]
  },
  {
   "cell_type": "code",
   "execution_count": 21,
   "id": "cf7c4e12",
   "metadata": {},
   "outputs": [],
   "source": [
    "# Initialize a transitioner object with the slew rate and/or the duration of other transitions (e.g. filter changes)\n",
    "slew_rate = 1*u.deg/u.second    # value found in the manual of VLT  (vista_0p975.dvi)\n",
    "transitioner = Transitioner(slew_rate,\n",
    "                            {'filter':{('UVB','VIS'): 10*u.second,\n",
    "                                       ('VIS','NIR'): 10*u.second,\n",
    "                                       'default': 30*u.second}})\n",
    "# I couldn't find the time needed to switch the filters so I am using the values the documentation used "
   ]
  },
  {
   "cell_type": "markdown",
   "id": "d377f9ba",
   "metadata": {},
   "source": [
    "Some notes on using these imports \n",
    "- Need numpy version 1.25\n",
    "- Need astropy version 5.3.4\n",
    "\n",
    "Otherwise there will be issues when running the seq_schedular"
   ]
  },
  {
   "cell_type": "code",
   "execution_count": 22,
   "id": "655b2ea6",
   "metadata": {},
   "outputs": [],
   "source": [
    "####### DON'T RUN THIS ONE | IT WASTES TIME | OTHER ONE PRIORITIZES, SO IT WILL RUN FASTER ########\n",
    "# from astroplan.scheduling import SequentialScheduler\n",
    "# # Initialize the sequential scheduler with the constraints and transitioner\n",
    "# seq_scheduler = SequentialScheduler(constraints = global_constraints,\n",
    "#                                     observer = vlt_location,\n",
    "#                                     transitioner = transitioner)\n",
    "# # Initialize a Schedule object, to contain the new schedule\n",
    "# sequential_schedule = Schedule(noon_before, noon_after)\n",
    "\n",
    "# # Call the schedule with the observing blocks and schedule to schedule the blocks\n",
    "# seq_scheduler(blocks, sequential_schedule)"
   ]
  },
  {
   "cell_type": "code",
   "execution_count": 23,
   "id": "b9c92ea8",
   "metadata": {},
   "outputs": [],
   "source": [
    "# I need to automate this\n",
    "\n",
    "def schedule_one_night(start, end, blocks, month=\"\", night_label=\"\"):\n",
    "    # Initialize the priority scheduler with the constraints and transitioner\n",
    "    prior_scheduler = PriorityScheduler(constraints = global_constraints,\n",
    "                                        observer = vlt_location,\n",
    "                                        transitioner = transitioner)\n",
    "    # Initialize a Schedule object, to contain the new schedule\n",
    "    schedule = Schedule(start, end)\n",
    "    # Call the schedule with the observing blocks and schedule to schedule the blocks\n",
    "    prior_scheduler(blocks, schedule)\n",
    "    prior_scheduler(blocks, schedule)\n",
    "    prior_scheduler(blocks, schedule)\n",
    "    prior_scheduler(blocks, schedule)    \n",
    "    prior_scheduler(blocks, schedule)\n",
    "    prior_scheduler(blocks, schedule)    \n",
    "    prior_scheduler(blocks, schedule)\n",
    "    # plot the schedule with the airmass of the targets\n",
    "    # plt.figure(figsize = (14,6))\n",
    "    # plot_schedule_airmass(schedule)\n",
    "    # plt.title(f\"Schedule for {night_label}\")\n",
    "    # plt.legend(loc = \"upper right\", fontsize=\"small\") \n",
    "    # plt.savefig(f\"/Users/izaihamartinez/Downloads/School/Courses/UA-Obs-Tech/{month}/Schedule_for_{night_label}.png\") ##### if running on my macbook air\n",
    "    # #plt.savefig(f\"/Users/izaihamartinez/Downloads/School/Observational Tech/{month}/Schedule_for_{night_label}.png\") ##### if running on my macbook pro\n",
    "    # plt.show()\n",
    "\n",
    "\n",
    "    return schedule \n"
   ]
  },
  {
   "cell_type": "code",
   "execution_count": 24,
   "id": "1f44bf57",
   "metadata": {},
   "outputs": [],
   "source": [
    "###### The individual test ########\n",
    " \n",
    "#since I want to run this over months (start is 17:00 local, 21:00 UTC)\n",
    "# jan_start = Time('2026-01-01 21:00')\n",
    "# jan_end = Time('2026-01-31 11:00')\n",
    "\n",
    "# july_start = Time('2026-07-01 21:00')\n",
    "# july_end = Time('2026-07-31 11:00')\n",
    "\n",
    "# dec_start = Time('2026-12-01 21:00')\n",
    "# dec_end = Time('2026-12-30 11:00')\n",
    "# start_night = Time('2026-01-01 21:00')\n",
    "# end_night = Time('2026-01-02 11:00')\n",
    "\n",
    "\n",
    "# all_schedules = []\n",
    "# # I need to start the counter at the 1st day \n",
    "# current_night = start_night\n",
    "# while current_night < end_night:\n",
    "#     night_start = current_night\n",
    "#     # the new night end will be the next day morning (roughly 8AM local, therefore that would be 14 hours of testing)\n",
    "#     night_end = current_night + timedelta(hours= 14)\n",
    "\n",
    "#     label = night_start.iso.split()[0]\n",
    "#     schedule = schedule_one_night(night_start, night_end, blocks, month=\"Dec\", night_label=label)\n",
    "#     all_schedules.append(schedule)\n",
    "#     # now we shift by a full day to the start night time (this is how we skip the day time)\n",
    "#     current_night += timedelta(days=1)"
   ]
  },
  {
   "cell_type": "code",
   "execution_count": 25,
   "id": "09172d18",
   "metadata": {},
   "outputs": [],
   "source": [
    "# #Don't run yet\n",
    "\n",
    "# all_schedules = []\n",
    "# #months you can't do (for no reason)= [\"02\", \"11\"]\n",
    "# months = [\"03\", \"04\", \"05\", \"06\", \"07\", \"08\", \"09\", \"10\", \"11\" \"12\"]  # I will loop over the months\n",
    "\n",
    "# for month in months:\n",
    "#     start_night = Time(f\"2026-{month}-01 21:00\")\n",
    "#     end_night = Time(f\"2026-{month}-30 11:00\")\n",
    "\n",
    "#     current_night = start_night\n",
    "#     while current_night < end_night:\n",
    "#         night_start = current_night\n",
    "#         night_end = current_night + timedelta(hours=14)\n",
    "\n",
    "#         label = night_start.iso.split()[0]\n",
    "#         schedule = schedule_one_night(night_start, night_end, blocks, month=month, night_label=label)\n",
    "#         all_schedules.append(schedule)\n",
    "\n",
    "#         current_night += timedelta(days=1)"
   ]
  },
  {
   "cell_type": "markdown",
   "id": "f243d27e",
   "metadata": {},
   "source": [
    "Based on the plots from above, these days are best for observing\n",
    "\n",
    "For the Year 2025:\n",
    "\n",
    "- 2025-01-26: T10, T1, T7, T8, T9, T5, T12, T13\n",
    "- 2025-07-09 to 21: T10, T1, T11, T7, T8, T9, T3, T13, T12, T5\n",
    "- 2025-12-01 to 21: T10, T1, T7, T8, T9, T12, T13\n",
    "\n",
    "For the Year 2026:\n",
    "\n",
    "- 2026-01-18 to 29: T12, T5, T13, T1, T10, T7, T8, T9 \n",
    "- 2026-03-01 to 29: T13, T11, T8, T1, T9, T3, T12, T5, T10 \n",
    "- 2026-04-01 to 29: T13, T11, T8, T1, T9, T3, T12, T5, T10 \n",
    "- 2026-05-01 to 21: T11, T13, T7, T8, T1, T9, T3, T12, T5, T10 \n",
    "- 2026-06-01 to 12: T12, T5, T13, T10, T11, T7, T8, T1, T3\n",
    "- 2026-07-10 to 21: T11, T13, T7, T8, T1, T9, T3, T12, T5, T10\n",
    "- 2026-08-01 to 29: T11, T7, T8, T9, T3, T12, T13, T10\n",
    "- 2026-09-01 to 08: T11, T7, T8, T9, T3, T12, T13, T10\n",
    "- 2026-11-01 to 29: T11, T7, T8, T9, T12, T13\n",
    "- 2026-12-01 to 22: T12, T13, T1, T10, T7, T8, T9"
   ]
  },
  {
   "cell_type": "code",
   "execution_count": 26,
   "id": "1795d6da",
   "metadata": {},
   "outputs": [],
   "source": [
    "#df_schedule = pd.DataFrame(all_schedules)\n",
    "#df_schedule.to_csv(\"2026_rest_Schedule.csv\", index=False)"
   ]
  },
  {
   "cell_type": "markdown",
   "id": "cc1b12f1",
   "metadata": {},
   "source": [
    "# Going to fill the nights now "
   ]
  },
  {
   "cell_type": "markdown",
   "id": "87a51f73",
   "metadata": {},
   "source": [
    "We should ask for nights in May & July with these targets: \n",
    "- T1, T3, T5, T7, T8, T9, T10, T11, T12, T13\n",
    "- Ask for 3ish days in each month\n",
    "- 3 back to back days in May \n",
    "- 3 spread out days in July \n",
    "- This would help create the radial velocity plot"
   ]
  },
  {
   "cell_type": "markdown",
   "id": "1e6122d8",
   "metadata": {},
   "source": [
    "These WD binaries could be progenators to:\n",
    "- Hot DQs\n",
    "- SN Ia (if they are close binaries)\n",
    "- High total mass (>1.4) = super-Chandra mass"
   ]
  },
  {
   "cell_type": "markdown",
   "id": "72e38057",
   "metadata": {},
   "source": [
    "Read: A super-Chandrasekhar mass type Ia supernova progenitor at 49 pc set to detonate in 23 Gyr\n",
    "- they have code we can use for the spectra"
   ]
  },
  {
   "cell_type": "markdown",
   "id": "ceea3820",
   "metadata": {},
   "source": [
    "The Light cuves tell us, that the approximate periods are: \n",
    "\n",
    "- T1: ~22 days \n",
    "- T3: ~15 days\n",
    "- T5: ~20 days (good light curve to use for proposal/talk)\n",
    "- T7: ~17 days\n",
    "- T8: ~8 days\n",
    "- T9: ~10 days\n",
    "- T10: ~10 days\n",
    "- T11: ~10 days (Inconclusive)\n",
    "- T12: ~12 days\n",
    "- T13: ~10 days \n",
    "\n",
    "Notes to make:\n",
    "- The very 'polluted' light curves are very low flux, therefore the SNR is bad and they appear polluted\n",
    "- Some have many peaks (could be more than a binary system, part of the goal)"
   ]
  },
  {
   "cell_type": "code",
   "execution_count": 27,
   "id": "47ec63d4",
   "metadata": {},
   "outputs": [],
   "source": [
    "# Dropping T2, T4, & T6 \n",
    "block = [b for b in blocks if b.target.name not in ['T2', 'T4', 'T6']]"
   ]
  },
  {
   "cell_type": "code",
   "execution_count": 28,
   "id": "64c8a898",
   "metadata": {},
   "outputs": [
    {
     "name": "stderr",
     "output_type": "stream",
     "text": [
      "WARNING: Tried to get polar motions for times after IERS data is valid. Defaulting to polar motion from the 50-yr mean for those. This may affect precision at the arcsec level. Please check your astropy.utils.iers.conf.iers_auto_url and point it to a newer version if necessary. [astropy.coordinates.builtin_frames.utils]\n"
     ]
    },
    {
     "name": "stdout",
     "output_type": "stream",
     "text": [
      "     target         start time (UTC)    ...     configuration    \n",
      "--------------- ----------------------- ... ---------------------\n",
      "             T8 2026-05-01 22:37:20.004 ...     {'filter': 'UVB'}\n",
      "TransitionBlock 2026-05-01 22:54:40.004 ...                    []\n",
      "             T9 2026-05-01 22:55:00.004 ...     {'filter': 'UVB'}\n",
      "TransitionBlock 2026-05-01 22:57:20.004 ...                    []\n",
      "            T12 2026-05-01 22:58:20.004 ...     {'filter': 'UVB'}\n",
      "TransitionBlock 2026-05-01 23:00:40.004 ... ['filter:UVB to VIS']\n",
      "             T8 2026-05-01 23:01:40.004 ...     {'filter': 'VIS'}\n",
      "TransitionBlock 2026-05-01 23:07:20.004 ...                    []\n",
      "             T9 2026-05-01 23:07:40.004 ...     {'filter': 'VIS'}\n",
      "TransitionBlock 2026-05-01 23:09:40.004 ...                    []\n",
      "            ...                     ... ...                   ...\n",
      "TransitionBlock 2026-05-02 10:25:20.029 ... ['filter:NIR to VIS']\n",
      "             T7 2026-05-02 10:26:20.030 ...     {'filter': 'VIS'}\n",
      "TransitionBlock 2026-05-02 10:28:20.030 ... ['filter:VIS to UVB']\n",
      "             T7 2026-05-02 10:29:20.030 ...     {'filter': 'UVB'}\n",
      "TransitionBlock 2026-05-02 10:31:40.030 ... ['filter:UVB to NIR']\n",
      "             T7 2026-05-02 10:32:40.030 ...     {'filter': 'NIR'}\n",
      "TransitionBlock 2026-05-02 10:33:40.030 ... ['filter:NIR to VIS']\n",
      "             T7 2026-05-02 10:34:40.030 ...     {'filter': 'VIS'}\n",
      "TransitionBlock 2026-05-02 10:36:40.030 ... ['filter:VIS to UVB']\n",
      "             T7 2026-05-02 10:37:40.030 ...     {'filter': 'UVB'}\n",
      "Length = 326 rows\n"
     ]
    },
    {
     "name": "stderr",
     "output_type": "stream",
     "text": [
      "WARNING: Tried to get polar motions for times after IERS data is valid. Defaulting to polar motion from the 50-yr mean for those. This may affect precision at the arcsec level. Please check your astropy.utils.iers.conf.iers_auto_url and point it to a newer version if necessary. [astropy.coordinates.builtin_frames.utils]\n"
     ]
    },
    {
     "name": "stdout",
     "output_type": "stream",
     "text": [
      "     target         start time (UTC)    ...     configuration    \n",
      "--------------- ----------------------- ... ---------------------\n",
      "             T8 2026-05-03 22:36:00.004 ...     {'filter': 'UVB'}\n",
      "TransitionBlock 2026-05-03 22:53:20.004 ...                    []\n",
      "             T9 2026-05-03 22:53:40.004 ...     {'filter': 'UVB'}\n",
      "TransitionBlock 2026-05-03 22:56:00.004 ...                    []\n",
      "            T12 2026-05-03 22:57:00.004 ...     {'filter': 'UVB'}\n",
      "TransitionBlock 2026-05-03 22:59:20.004 ... ['filter:UVB to VIS']\n",
      "             T8 2026-05-03 23:00:20.004 ...     {'filter': 'VIS'}\n",
      "TransitionBlock 2026-05-03 23:06:00.004 ...                    []\n",
      "             T9 2026-05-03 23:06:20.004 ...     {'filter': 'VIS'}\n",
      "TransitionBlock 2026-05-03 23:08:20.004 ...                    []\n",
      "            ...                     ... ...                   ...\n",
      "TransitionBlock 2026-05-04 10:26:20.030 ... ['filter:NIR to VIS']\n",
      "             T7 2026-05-04 10:27:20.030 ...     {'filter': 'VIS'}\n",
      "TransitionBlock 2026-05-04 10:29:20.030 ... ['filter:VIS to UVB']\n",
      "             T7 2026-05-04 10:30:20.030 ...     {'filter': 'UVB'}\n",
      "TransitionBlock 2026-05-04 10:32:40.030 ... ['filter:UVB to NIR']\n",
      "             T7 2026-05-04 10:33:40.030 ...     {'filter': 'NIR'}\n",
      "TransitionBlock 2026-05-04 10:34:40.030 ... ['filter:NIR to VIS']\n",
      "             T7 2026-05-04 10:35:40.030 ...     {'filter': 'VIS'}\n",
      "TransitionBlock 2026-05-04 10:37:40.030 ... ['filter:VIS to UVB']\n",
      "             T7 2026-05-04 10:38:40.030 ...     {'filter': 'UVB'}\n",
      "Length = 323 rows\n"
     ]
    },
    {
     "name": "stderr",
     "output_type": "stream",
     "text": [
      "WARNING: Tried to get polar motions for times after IERS data is valid. Defaulting to polar motion from the 50-yr mean for those. This may affect precision at the arcsec level. Please check your astropy.utils.iers.conf.iers_auto_url and point it to a newer version if necessary. [astropy.coordinates.builtin_frames.utils]\n"
     ]
    },
    {
     "name": "stdout",
     "output_type": "stream",
     "text": [
      "     target         start time (UTC)    ...     configuration    \n",
      "--------------- ----------------------- ... ---------------------\n",
      "             T8 2026-05-05 22:35:00.003 ...     {'filter': 'UVB'}\n",
      "TransitionBlock 2026-05-05 22:52:20.003 ...                    []\n",
      "             T9 2026-05-05 22:52:40.003 ...     {'filter': 'UVB'}\n",
      "TransitionBlock 2026-05-05 22:55:00.003 ...                    []\n",
      "            T12 2026-05-05 22:56:00.003 ...     {'filter': 'UVB'}\n",
      "TransitionBlock 2026-05-05 22:58:20.003 ... ['filter:UVB to VIS']\n",
      "             T8 2026-05-05 22:59:20.003 ...     {'filter': 'VIS'}\n",
      "TransitionBlock 2026-05-05 23:05:00.003 ...                    []\n",
      "             T9 2026-05-05 23:05:20.003 ...     {'filter': 'VIS'}\n",
      "TransitionBlock 2026-05-05 23:07:20.003 ...                    []\n",
      "            ...                     ... ...                   ...\n",
      "TransitionBlock 2026-05-06 10:27:20.030 ... ['filter:NIR to VIS']\n",
      "             T7 2026-05-06 10:28:20.030 ...     {'filter': 'VIS'}\n",
      "TransitionBlock 2026-05-06 10:30:20.030 ... ['filter:VIS to UVB']\n",
      "             T7 2026-05-06 10:31:20.030 ...     {'filter': 'UVB'}\n",
      "TransitionBlock 2026-05-06 10:33:40.030 ... ['filter:UVB to NIR']\n",
      "             T7 2026-05-06 10:34:40.030 ...     {'filter': 'NIR'}\n",
      "TransitionBlock 2026-05-06 10:35:40.030 ... ['filter:NIR to VIS']\n",
      "             T7 2026-05-06 10:36:40.030 ...     {'filter': 'VIS'}\n",
      "TransitionBlock 2026-05-06 10:38:40.030 ... ['filter:VIS to UVB']\n",
      "             T7 2026-05-06 10:39:40.030 ...     {'filter': 'UVB'}\n",
      "Length = 318 rows\n"
     ]
    },
    {
     "name": "stderr",
     "output_type": "stream",
     "text": [
      "WARNING: Tried to get polar motions for times after IERS data is valid. Defaulting to polar motion from the 50-yr mean for those. This may affect precision at the arcsec level. Please check your astropy.utils.iers.conf.iers_auto_url and point it to a newer version if necessary. [astropy.coordinates.builtin_frames.utils]\n"
     ]
    },
    {
     "name": "stdout",
     "output_type": "stream",
     "text": [
      "     target         start time (UTC)    ...     configuration    \n",
      "--------------- ----------------------- ... ---------------------\n",
      "             T8 2026-05-07 22:33:40.003 ...     {'filter': 'UVB'}\n",
      "TransitionBlock 2026-05-07 22:51:00.003 ...                    []\n",
      "             T9 2026-05-07 22:51:20.003 ...     {'filter': 'UVB'}\n",
      "TransitionBlock 2026-05-07 22:53:40.003 ...                    []\n",
      "            T12 2026-05-07 22:54:40.003 ...     {'filter': 'UVB'}\n",
      "TransitionBlock 2026-05-07 22:57:00.003 ... ['filter:UVB to VIS']\n",
      "             T8 2026-05-07 22:58:00.003 ...     {'filter': 'VIS'}\n",
      "TransitionBlock 2026-05-07 23:03:40.003 ...                    []\n",
      "             T9 2026-05-07 23:04:00.003 ...     {'filter': 'VIS'}\n",
      "TransitionBlock 2026-05-07 23:06:00.003 ...                    []\n",
      "            ...                     ... ...                   ...\n",
      "TransitionBlock 2026-05-08 10:28:00.030 ... ['filter:NIR to VIS']\n",
      "             T7 2026-05-08 10:29:00.030 ...     {'filter': 'VIS'}\n",
      "TransitionBlock 2026-05-08 10:31:00.030 ... ['filter:VIS to UVB']\n",
      "             T7 2026-05-08 10:32:00.030 ...     {'filter': 'UVB'}\n",
      "TransitionBlock 2026-05-08 10:34:20.030 ... ['filter:UVB to NIR']\n",
      "             T7 2026-05-08 10:35:20.030 ...     {'filter': 'NIR'}\n",
      "TransitionBlock 2026-05-08 10:36:20.030 ... ['filter:NIR to VIS']\n",
      "             T7 2026-05-08 10:37:20.030 ...     {'filter': 'VIS'}\n",
      "TransitionBlock 2026-05-08 10:39:20.030 ... ['filter:VIS to UVB']\n",
      "             T7 2026-05-08 10:40:20.030 ...     {'filter': 'UVB'}\n",
      "Length = 316 rows\n"
     ]
    },
    {
     "name": "stderr",
     "output_type": "stream",
     "text": [
      "WARNING: Tried to get polar motions for times after IERS data is valid. Defaulting to polar motion from the 50-yr mean for those. This may affect precision at the arcsec level. Please check your astropy.utils.iers.conf.iers_auto_url and point it to a newer version if necessary. [astropy.coordinates.builtin_frames.utils]\n"
     ]
    },
    {
     "name": "stdout",
     "output_type": "stream",
     "text": [
      "     target         start time (UTC)    ...     configuration    \n",
      "--------------- ----------------------- ... ---------------------\n",
      "             T8 2026-05-09 22:32:40.003 ...     {'filter': 'UVB'}\n",
      "TransitionBlock 2026-05-09 22:50:00.003 ...                    []\n",
      "             T9 2026-05-09 22:50:20.003 ...     {'filter': 'UVB'}\n",
      "TransitionBlock 2026-05-09 22:52:40.003 ...                    []\n",
      "            T12 2026-05-09 22:53:40.003 ...     {'filter': 'UVB'}\n",
      "TransitionBlock 2026-05-09 22:56:00.003 ... ['filter:UVB to VIS']\n",
      "             T8 2026-05-09 22:57:00.003 ...     {'filter': 'VIS'}\n",
      "TransitionBlock 2026-05-09 23:02:40.003 ...                    []\n",
      "             T9 2026-05-09 23:03:00.003 ...     {'filter': 'VIS'}\n",
      "TransitionBlock 2026-05-09 23:05:00.003 ...                    []\n",
      "            ...                     ... ...                   ...\n",
      "TransitionBlock 2026-05-10 10:29:00.030 ... ['filter:NIR to VIS']\n",
      "             T7 2026-05-10 10:30:00.030 ...     {'filter': 'VIS'}\n",
      "TransitionBlock 2026-05-10 10:32:00.030 ... ['filter:VIS to UVB']\n",
      "             T7 2026-05-10 10:33:00.030 ...     {'filter': 'UVB'}\n",
      "TransitionBlock 2026-05-10 10:35:20.030 ... ['filter:UVB to NIR']\n",
      "             T7 2026-05-10 10:36:20.030 ...     {'filter': 'NIR'}\n",
      "TransitionBlock 2026-05-10 10:37:20.030 ... ['filter:NIR to VIS']\n",
      "             T7 2026-05-10 10:38:20.030 ...     {'filter': 'VIS'}\n",
      "TransitionBlock 2026-05-10 10:40:20.030 ... ['filter:VIS to UVB']\n",
      "             T7 2026-05-10 10:41:20.030 ...     {'filter': 'UVB'}\n",
      "Length = 310 rows\n"
     ]
    },
    {
     "name": "stderr",
     "output_type": "stream",
     "text": [
      "WARNING: Tried to get polar motions for times after IERS data is valid. Defaulting to polar motion from the 50-yr mean for those. This may affect precision at the arcsec level. Please check your astropy.utils.iers.conf.iers_auto_url and point it to a newer version if necessary. [astropy.coordinates.builtin_frames.utils]\n"
     ]
    },
    {
     "name": "stdout",
     "output_type": "stream",
     "text": [
      "     target         start time (UTC)    ...     configuration    \n",
      "--------------- ----------------------- ... ---------------------\n",
      "             T8 2026-05-11 22:31:40.003 ...     {'filter': 'UVB'}\n",
      "TransitionBlock 2026-05-11 22:49:00.003 ...                    []\n",
      "             T9 2026-05-11 22:49:20.003 ...     {'filter': 'UVB'}\n",
      "TransitionBlock 2026-05-11 22:51:40.003 ...                    []\n",
      "            T12 2026-05-11 22:52:40.003 ...     {'filter': 'UVB'}\n",
      "TransitionBlock 2026-05-11 22:55:00.003 ... ['filter:UVB to VIS']\n",
      "             T8 2026-05-11 22:56:00.003 ...     {'filter': 'VIS'}\n",
      "TransitionBlock 2026-05-11 23:01:40.003 ...                    []\n",
      "             T9 2026-05-11 23:02:00.003 ...     {'filter': 'VIS'}\n",
      "TransitionBlock 2026-05-11 23:04:00.003 ...                    []\n",
      "            ...                     ... ...                   ...\n",
      "TransitionBlock 2026-05-12 10:30:00.030 ... ['filter:NIR to VIS']\n",
      "             T7 2026-05-12 10:31:00.030 ...     {'filter': 'VIS'}\n",
      "TransitionBlock 2026-05-12 10:33:00.030 ... ['filter:VIS to UVB']\n",
      "             T7 2026-05-12 10:34:00.030 ...     {'filter': 'UVB'}\n",
      "TransitionBlock 2026-05-12 10:36:20.030 ... ['filter:UVB to NIR']\n",
      "             T7 2026-05-12 10:37:20.030 ...     {'filter': 'NIR'}\n",
      "TransitionBlock 2026-05-12 10:38:20.030 ... ['filter:NIR to VIS']\n",
      "             T7 2026-05-12 10:39:20.030 ...     {'filter': 'VIS'}\n",
      "TransitionBlock 2026-05-12 10:41:20.030 ... ['filter:VIS to UVB']\n",
      "             T7 2026-05-12 10:42:20.030 ...     {'filter': 'UVB'}\n",
      "Length = 311 rows\n"
     ]
    },
    {
     "name": "stderr",
     "output_type": "stream",
     "text": [
      "WARNING: Tried to get polar motions for times after IERS data is valid. Defaulting to polar motion from the 50-yr mean for those. This may affect precision at the arcsec level. Please check your astropy.utils.iers.conf.iers_auto_url and point it to a newer version if necessary. [astropy.coordinates.builtin_frames.utils]\n"
     ]
    },
    {
     "name": "stdout",
     "output_type": "stream",
     "text": [
      "     target         start time (UTC)    ...     configuration    \n",
      "--------------- ----------------------- ... ---------------------\n",
      "             T8 2026-05-13 22:30:40.003 ...     {'filter': 'UVB'}\n",
      "TransitionBlock 2026-05-13 22:48:00.003 ...                    []\n",
      "             T9 2026-05-13 22:48:20.003 ...     {'filter': 'UVB'}\n",
      "TransitionBlock 2026-05-13 22:50:40.003 ...                    []\n",
      "            T12 2026-05-13 22:51:40.003 ...     {'filter': 'UVB'}\n",
      "TransitionBlock 2026-05-13 22:54:00.003 ... ['filter:UVB to VIS']\n",
      "             T8 2026-05-13 22:55:00.003 ...     {'filter': 'VIS'}\n",
      "TransitionBlock 2026-05-13 23:00:40.003 ...                    []\n",
      "             T9 2026-05-13 23:01:00.003 ...     {'filter': 'VIS'}\n",
      "TransitionBlock 2026-05-13 23:03:00.003 ...                    []\n",
      "            ...                     ... ...                   ...\n",
      "TransitionBlock 2026-05-14 10:31:00.030 ... ['filter:NIR to VIS']\n",
      "             T7 2026-05-14 10:32:00.030 ...     {'filter': 'VIS'}\n",
      "TransitionBlock 2026-05-14 10:34:00.030 ... ['filter:VIS to UVB']\n",
      "             T7 2026-05-14 10:35:00.030 ...     {'filter': 'UVB'}\n",
      "TransitionBlock 2026-05-14 10:37:20.030 ... ['filter:UVB to NIR']\n",
      "             T7 2026-05-14 10:38:20.030 ...     {'filter': 'NIR'}\n",
      "TransitionBlock 2026-05-14 10:39:20.030 ... ['filter:NIR to VIS']\n",
      "             T7 2026-05-14 10:40:20.030 ...     {'filter': 'VIS'}\n",
      "TransitionBlock 2026-05-14 10:42:20.030 ... ['filter:VIS to UVB']\n",
      "             T7 2026-05-14 10:43:20.030 ...     {'filter': 'UVB'}\n",
      "Length = 311 rows\n"
     ]
    },
    {
     "name": "stderr",
     "output_type": "stream",
     "text": [
      "WARNING: Tried to get polar motions for times after IERS data is valid. Defaulting to polar motion from the 50-yr mean for those. This may affect precision at the arcsec level. Please check your astropy.utils.iers.conf.iers_auto_url and point it to a newer version if necessary. [astropy.coordinates.builtin_frames.utils]\n"
     ]
    },
    {
     "name": "stdout",
     "output_type": "stream",
     "text": [
      "     target         start time (UTC)    ...     configuration    \n",
      "--------------- ----------------------- ... ---------------------\n",
      "             T8 2026-05-15 22:29:40.003 ...     {'filter': 'UVB'}\n",
      "TransitionBlock 2026-05-15 22:47:00.003 ...                    []\n",
      "             T9 2026-05-15 22:47:20.003 ...     {'filter': 'UVB'}\n",
      "TransitionBlock 2026-05-15 22:49:40.003 ...                    []\n",
      "            T12 2026-05-15 22:50:40.003 ...     {'filter': 'UVB'}\n",
      "TransitionBlock 2026-05-15 22:53:00.003 ... ['filter:UVB to VIS']\n",
      "             T8 2026-05-15 22:54:00.003 ...     {'filter': 'VIS'}\n",
      "TransitionBlock 2026-05-15 22:59:40.003 ...                    []\n",
      "             T9 2026-05-15 23:00:00.003 ...     {'filter': 'VIS'}\n",
      "TransitionBlock 2026-05-15 23:02:00.003 ...                    []\n",
      "            ...                     ... ...                   ...\n",
      "TransitionBlock 2026-05-16 10:31:40.030 ... ['filter:NIR to VIS']\n",
      "             T7 2026-05-16 10:32:40.030 ...     {'filter': 'VIS'}\n",
      "TransitionBlock 2026-05-16 10:34:40.030 ... ['filter:VIS to UVB']\n",
      "             T7 2026-05-16 10:35:40.030 ...     {'filter': 'UVB'}\n",
      "TransitionBlock 2026-05-16 10:38:00.030 ... ['filter:UVB to NIR']\n",
      "             T7 2026-05-16 10:39:00.030 ...     {'filter': 'NIR'}\n",
      "TransitionBlock 2026-05-16 10:40:00.030 ... ['filter:NIR to VIS']\n",
      "             T7 2026-05-16 10:41:00.030 ...     {'filter': 'VIS'}\n",
      "TransitionBlock 2026-05-16 10:43:00.030 ... ['filter:VIS to UVB']\n",
      "             T7 2026-05-16 10:44:00.030 ...     {'filter': 'UVB'}\n",
      "Length = 306 rows\n"
     ]
    },
    {
     "name": "stderr",
     "output_type": "stream",
     "text": [
      "WARNING: Tried to get polar motions for times after IERS data is valid. Defaulting to polar motion from the 50-yr mean for those. This may affect precision at the arcsec level. Please check your astropy.utils.iers.conf.iers_auto_url and point it to a newer version if necessary. [astropy.coordinates.builtin_frames.utils]\n"
     ]
    },
    {
     "name": "stdout",
     "output_type": "stream",
     "text": [
      "     target         start time (UTC)    ...     configuration    \n",
      "--------------- ----------------------- ... ---------------------\n",
      "             T8 2026-05-17 22:29:00.003 ...     {'filter': 'UVB'}\n",
      "TransitionBlock 2026-05-17 22:46:20.003 ...                    []\n",
      "             T9 2026-05-17 22:46:40.003 ...     {'filter': 'UVB'}\n",
      "TransitionBlock 2026-05-17 22:49:00.003 ...                    []\n",
      "            T12 2026-05-17 22:50:00.003 ...     {'filter': 'UVB'}\n",
      "TransitionBlock 2026-05-17 22:52:20.003 ... ['filter:UVB to VIS']\n",
      "             T8 2026-05-17 22:53:20.003 ...     {'filter': 'VIS'}\n",
      "TransitionBlock 2026-05-17 22:59:00.003 ...                    []\n",
      "             T9 2026-05-17 22:59:20.003 ...     {'filter': 'VIS'}\n",
      "TransitionBlock 2026-05-17 23:01:20.003 ...                    []\n",
      "            ...                     ... ...                   ...\n",
      "TransitionBlock 2026-05-18 10:32:40.030 ... ['filter:NIR to VIS']\n",
      "             T7 2026-05-18 10:33:40.030 ...     {'filter': 'VIS'}\n",
      "TransitionBlock 2026-05-18 10:35:40.030 ... ['filter:VIS to UVB']\n",
      "             T7 2026-05-18 10:36:40.030 ...     {'filter': 'UVB'}\n",
      "TransitionBlock 2026-05-18 10:39:00.030 ... ['filter:UVB to NIR']\n",
      "             T7 2026-05-18 10:40:00.030 ...     {'filter': 'NIR'}\n",
      "TransitionBlock 2026-05-18 10:41:00.030 ... ['filter:NIR to VIS']\n",
      "             T7 2026-05-18 10:42:00.030 ...     {'filter': 'VIS'}\n",
      "TransitionBlock 2026-05-18 10:44:00.030 ... ['filter:VIS to UVB']\n",
      "             T7 2026-05-18 10:45:00.030 ...     {'filter': 'UVB'}\n",
      "Length = 303 rows\n"
     ]
    },
    {
     "name": "stderr",
     "output_type": "stream",
     "text": [
      "WARNING: Tried to get polar motions for times after IERS data is valid. Defaulting to polar motion from the 50-yr mean for those. This may affect precision at the arcsec level. Please check your astropy.utils.iers.conf.iers_auto_url and point it to a newer version if necessary. [astropy.coordinates.builtin_frames.utils]\n"
     ]
    },
    {
     "name": "stdout",
     "output_type": "stream",
     "text": [
      "     target         start time (UTC)    ...     configuration    \n",
      "--------------- ----------------------- ... ---------------------\n",
      "             T8 2026-05-19 22:28:20.003 ...     {'filter': 'UVB'}\n",
      "TransitionBlock 2026-05-19 22:45:40.003 ...                    []\n",
      "             T9 2026-05-19 22:46:00.003 ...     {'filter': 'UVB'}\n",
      "TransitionBlock 2026-05-19 22:48:20.003 ...                    []\n",
      "            T12 2026-05-19 22:49:20.003 ...     {'filter': 'UVB'}\n",
      "TransitionBlock 2026-05-19 22:51:40.003 ... ['filter:UVB to VIS']\n",
      "             T8 2026-05-19 22:52:40.003 ...     {'filter': 'VIS'}\n",
      "TransitionBlock 2026-05-19 22:58:20.003 ...                    []\n",
      "            T12 2026-05-19 22:59:20.003 ...     {'filter': 'VIS'}\n",
      "TransitionBlock 2026-05-19 23:01:20.003 ... ['filter:VIS to NIR']\n",
      "            ...                     ... ...                   ...\n",
      "TransitionBlock 2026-05-20 10:33:40.030 ... ['filter:NIR to VIS']\n",
      "             T7 2026-05-20 10:34:40.030 ...     {'filter': 'VIS'}\n",
      "TransitionBlock 2026-05-20 10:36:40.030 ... ['filter:VIS to UVB']\n",
      "             T7 2026-05-20 10:37:40.030 ...     {'filter': 'UVB'}\n",
      "TransitionBlock 2026-05-20 10:40:00.030 ... ['filter:UVB to NIR']\n",
      "             T7 2026-05-20 10:41:00.030 ...     {'filter': 'NIR'}\n",
      "TransitionBlock 2026-05-20 10:42:00.030 ... ['filter:NIR to VIS']\n",
      "             T7 2026-05-20 10:43:00.030 ...     {'filter': 'VIS'}\n",
      "TransitionBlock 2026-05-20 10:45:00.030 ... ['filter:VIS to UVB']\n",
      "             T7 2026-05-20 10:46:00.030 ...     {'filter': 'UVB'}\n",
      "Length = 300 rows\n"
     ]
    }
   ],
   "source": [
    "may_schedules = []\n",
    "#going to run for the specific days we want in May\n",
    "months = [\"05\"]  \n",
    "## days we want, changed the interval in the last line, this code segment also prints the schedule \n",
    "#days = ['01', '03', '05', '07', '09', '11', '13', '15', '17', '19', '21']\n",
    "\n",
    "for month in months:\n",
    "    start_night = Time(f\"2026-{month}-01 21:00\")\n",
    "    end_night = Time(f\"2026-{month}-21 11:00\")\n",
    "\n",
    "    current_night = start_night\n",
    "    while current_night < end_night:\n",
    "        night_start = current_night\n",
    "        night_end = current_night + timedelta(hours=14)\n",
    "\n",
    "        label = night_start.iso.split()[0]\n",
    "        schedule = schedule_one_night(night_start, night_end, block, month=month, night_label=label)\n",
    "        may_schedules.append(schedule)\n",
    "\n",
    "        print(schedule.to_table())\n",
    "\n",
    "        current_night += timedelta(days=2)"
   ]
  },
  {
   "cell_type": "code",
   "execution_count": 29,
   "id": "be575189",
   "metadata": {},
   "outputs": [],
   "source": [
    "# We honestly don't need July\n",
    "\n",
    "# july_schedules = []\n",
    "# #going to run for the specific days we want in July\n",
    "# months = [\"07\"]  \n",
    "# days = ['', '']\n",
    "\n",
    "# for month in months:\n",
    "#     start_night = Time(f\"2026-{month}-10 21:00\")\n",
    "#     end_night = Time(f\"2026-{month}-21 11:00\")\n",
    "\n",
    "#     current_night = start_night\n",
    "#     while current_night < end_night:\n",
    "#         night_start = current_night\n",
    "#         night_end = current_night + timedelta(hours=14)\n",
    "\n",
    "#         label = night_start.iso.split()[0]\n",
    "#         schedule = schedule_one_night(night_start, night_end, block, month=month, night_label=label)\n",
    "#         july_schedules.append(schedule)\n",
    "\n",
    "#         print(schedule.to_table())\n",
    "\n",
    "#         current_night += timedelta(days=1)"
   ]
  },
  {
   "cell_type": "code",
   "execution_count": null,
   "id": "8078794c",
   "metadata": {},
   "outputs": [],
   "source": []
  }
 ],
 "metadata": {
  "kernelspec": {
   "display_name": "base",
   "language": "python",
   "name": "python3"
  },
  "language_info": {
   "codemirror_mode": {
    "name": "ipython",
    "version": 3
   },
   "file_extension": ".py",
   "mimetype": "text/x-python",
   "name": "python",
   "nbconvert_exporter": "python",
   "pygments_lexer": "ipython3",
   "version": "3.12.7"
  }
 },
 "nbformat": 4,
 "nbformat_minor": 5
}
