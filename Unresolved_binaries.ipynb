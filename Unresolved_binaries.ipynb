{
 "cells": [
  {
   "cell_type": "code",
   "execution_count": 10,
   "id": "97ccbdb1",
   "metadata": {},
   "outputs": [],
   "source": [
    "import numpy as np \n",
    "import pandas as pd\n",
    "import matplotlib.pyplot as plt\n",
    "from astroquery.gaia import Gaia\n",
    "\n",
    "from astropy.coordinates import SkyCoord, Galactic\n",
    "import astropy.units as u"
   ]
  },
  {
   "cell_type": "markdown",
   "id": "2acf0a80",
   "metadata": {},
   "source": [
    "# Pulling the Unresolved Binaries from O'Brien (Table A4)"
   ]
  },
  {
   "cell_type": "code",
   "execution_count": 2,
   "id": "712128e4",
   "metadata": {},
   "outputs": [],
   "source": [
    "Gaia_DR3_Id = [1355264565043431040, \n",
    "               3223516063958808064,\n",
    "               1005873614080407296,\n",
    "               2185710338703934976,\n",
    "               4788741548375134336,\n",
    "               6431977687725247104,\n",
    "               3729017810434416128,\n",
    "               1548104507825815296,\n",
    "               1550299304833675392,\n",
    "               4478524169500496000,\n",
    "               2643862402903084544,\n",
    "               3845263368043086080,\n",
    "               759601941671398272,\n",
    "               3000597125173673088]\n"
   ]
  },
  {
   "cell_type": "code",
   "execution_count": 15,
   "id": "34324f4a",
   "metadata": {},
   "outputs": [],
   "source": [
    "query = \"\"\"\n",
    "SELECT\n",
    "    gs.source_id,                \n",
    "    gs.ra,                      \n",
    "    gs.dec,                     \n",
    "    gs.parallax,               \n",
    "    gs.phot_g_mean_mag,        \n",
    "    ap.classprob_dsc_combmod_whitedwarf, \n",
    "    ap.classprob_dsc_combmod_binarystar,\n",
    "    ap.teff_gspphot,\n",
    "    ap.lum_flame,\n",
    "    ap.radius_flame,\n",
    "    ap.mass_flame\n",
    "FROM\n",
    "    gaiadr3.gaia_source AS gs   \n",
    "LEFT JOIN\n",
    "    gaiadr3.astrophysical_parameters AS ap ON gs.source_id = ap.source_id\n",
    "WHERE\n",
    "    gs.source_id IN (\n",
    "        1355264565043431040, \n",
    "        3223516063958808064,\n",
    "        1005873614080407296,\n",
    "        2185710338703934976,\n",
    "        4788741548375134336,\n",
    "        6431977687725247104,\n",
    "        3729017810434416128,\n",
    "        1548104507825815296,\n",
    "        1550299304833675392,\n",
    "        4478524169500496000,\n",
    "        2643862402903084544,\n",
    "        3845263368043086080,\n",
    "        759601941671398272,\n",
    "        3000597125173673088\n",
    "    )\n",
    "\"\"\"\n"
   ]
  },
  {
   "cell_type": "code",
   "execution_count": 16,
   "id": "cdeb6401",
   "metadata": {},
   "outputs": [],
   "source": [
    "job = Gaia.launch_job(query)\n",
    "results = job.get_results()"
   ]
  },
  {
   "cell_type": "markdown",
   "id": "9b6b7a16",
   "metadata": {},
   "source": [
    "# Galactocentric coordinates"
   ]
  },
  {
   "cell_type": "code",
   "execution_count": 18,
   "id": "e30af224",
   "metadata": {},
   "outputs": [],
   "source": [
    "# Turning the string into integers\n",
    "parallax = results['parallax']\n",
    "parallax = np.array(parallax)\n",
    "\n",
    "ra = results['ra']\n",
    "ra = np.array(ra)\n",
    "\n",
    "dec = results['dec']\n",
    "dec = np.array(dec)\n",
    "\n",
    "#using parallax for postion \n",
    "arcsecond = parallax/1000\n",
    "distance = abs(1/arcsecond)\n",
    "coords = SkyCoord(ra*u.deg, dec*u.deg, distance*u.pc , frame='icrs')\n",
    "galactic = coords.transform_to(Galactic)\n",
    "\n",
    "#gives postions \n",
    "X = (galactic.cartesian.x)/u.pc\n",
    "Y = (galactic.cartesian.y)/u.pc\n",
    "Z = (galactic.cartesian.z)/u.pc"
   ]
  },
  {
   "cell_type": "code",
   "execution_count": 23,
   "id": "c440bfa6",
   "metadata": {},
   "outputs": [],
   "source": [
    "# Create a dictionary with the results and the boundary parameters\n",
    "data = {\n",
    "    'source_id' : results['SOURCE_ID'],\n",
    "    'ra' : results['ra'],\n",
    "    'dec' : results['dec'],\n",
    "    'parallax' : results['parallax'],\n",
    "    'phot_g_mean_mag' : results['phot_g_mean_mag'],\n",
    "    'WD_prob' : results['classprob_dsc_combmod_whitedwarf'],\n",
    "    'Binary_prob' : results['classprob_dsc_combmod_binarystar'],\n",
    "    'T_eff' : results['teff_gspphot'],\n",
    "    'lum_flame' : results['lum_flame'],\n",
    "    'radius_flame' : results['radius_flame'],\n",
    "    'mass_flame' : results['mass_flame'],\n",
    "    'X' : X,\n",
    "    'Y' : Y,\n",
    "    'Z' : Z \n",
    "}\n",
    "df = pd.DataFrame(data)"
   ]
  },
  {
   "cell_type": "code",
   "execution_count": 28,
   "id": "dc00c5e0",
   "metadata": {},
   "outputs": [
    {
     "data": {
      "text/plain": [
       "Text(0, 0.5, 'Y axis (pc)')"
      ]
     },
     "execution_count": 28,
     "metadata": {},
     "output_type": "execute_result"
    },
    {
     "data": {
      "image/png": "[encoded data removed]",
      "text/plain": [
       "<Figure size 640x480 with 1 Axes>"
      ]
     },
     "metadata": {},
     "output_type": "display_data"
    }
   ],
   "source": [
    "plt.scatter(df['X'], df['Y'], c='k', s=5)\n",
    "plt.xlabel('X axis (pc)')\n",
    "plt.ylabel('Y axis (pc)')"
   ]
  },
  {
   "cell_type": "code",
   "execution_count": null,
   "id": "7f8ad237",
   "metadata": {},
   "outputs": [],
   "source": []
  }
 ],
 "metadata": {
  "kernelspec": {
   "display_name": "3.9.18",
   "language": "python",
   "name": "python3"
  },
  "language_info": {
   "codemirror_mode": {
    "name": "ipython",
    "version": 3
   },
   "file_extension": ".py",
   "mimetype": "text/x-python",
   "name": "python",
   "nbconvert_exporter": "python",
   "pygments_lexer": "ipython3",
   "version": "3.9.18"
  }
 },
 "nbformat": 4,
 "nbformat_minor": 5
}
