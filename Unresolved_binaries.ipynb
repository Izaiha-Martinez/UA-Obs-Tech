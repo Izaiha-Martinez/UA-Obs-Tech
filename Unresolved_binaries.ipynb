{
 "cells": [
  {
   "cell_type": "code",
   "execution_count": 2,
   "id": "97ccbdb1",
   "metadata": {},
   "outputs": [],
   "source": [
    "import numpy as np \n",
    "import pandas as pd\n",
    "import matplotlib.pyplot as plt\n",
    "from astroquery.gaia import Gaia\n",
    "\n",
    "from astropy.coordinates import SkyCoord, Galactic\n",
    "import astropy.units as u"
   ]
  },
  {
   "cell_type": "markdown",
   "id": "2acf0a80",
   "metadata": {},
   "source": [
    "# Pulling the Unresolved Binaries from O'Brien (Table A4)"
   ]
  },
  {
   "cell_type": "code",
   "execution_count": 3,
   "id": "34324f4a",
   "metadata": {},
   "outputs": [],
   "source": [
    "query = \"\"\"\n",
    "SELECT\n",
    "    gs.source_id,                \n",
    "    gs.ra,                      \n",
    "    gs.dec,                     \n",
    "    gs.parallax,               \n",
    "    gs.phot_g_mean_mag,  -- absolute\n",
    "    gs.phot_g_mean_flux, -- apparent   \n",
    "    gs.phot_bp_mean_mag,  -- absolute\n",
    "    gs.phot_bp_mean_flux, -- apparent   \n",
    "    gs.phot_rp_mean_mag,  -- absolute\n",
    "    gs.phot_rp_mean_flux, -- apparent     \n",
    "    ap.classprob_dsc_combmod_whitedwarf, \n",
    "    ap.classprob_dsc_combmod_binarystar,\n",
    "    ap.teff_gspphot,\n",
    "    ap.lum_flame,\n",
    "    ap.radius_flame,\n",
    "    ap.mass_flame\n",
    "FROM\n",
    "    gaiadr3.gaia_source AS gs   \n",
    "LEFT JOIN\n",
    "    gaiadr3.astrophysical_parameters AS ap ON gs.source_id = ap.source_id\n",
    "WHERE\n",
    "    gs.source_id IN (\n",
    "        1355264565043431040, \n",
    "        3223516063958808064,\n",
    "        1005873614080407296,\n",
    "        2185710338703934976,\n",
    "        4788741548375134336,\n",
    "        6431977687725247104,\n",
    "        3729017810434416128,\n",
    "        1548104507825815296,\n",
    "        1550299304833675392,\n",
    "        4478524169500496000,\n",
    "        2643862402903084544,\n",
    "        3845263368043086080,\n",
    "        759601941671398272,\n",
    "        3000597125173673088\n",
    "    )\n",
    "\"\"\"\n"
   ]
  },
  {
   "cell_type": "code",
   "execution_count": 4,
   "id": "cdeb6401",
   "metadata": {},
   "outputs": [],
   "source": [
    "job = Gaia.launch_job(query)\n",
    "results = job.get_results()"
   ]
  },
  {
   "cell_type": "markdown",
   "id": "9b6b7a16",
   "metadata": {},
   "source": [
    "# Galactocentric coordinates"
   ]
  },
  {
   "cell_type": "code",
   "execution_count": 5,
   "id": "e30af224",
   "metadata": {},
   "outputs": [],
   "source": [
    "# Turning the string into integers\n",
    "parallax = results['parallax']\n",
    "parallax = np.array(parallax)\n",
    "\n",
    "ra = results['ra']\n",
    "ra = np.array(ra)\n",
    "\n",
    "dec = results['dec']\n",
    "dec = np.array(dec)\n",
    "\n",
    "#using parallax for postion \n",
    "arcsecond = parallax/1000\n",
    "distance = abs(1/arcsecond)\n",
    "coords = SkyCoord(ra*u.deg, dec*u.deg, distance*u.pc , frame='icrs')\n",
    "galactic = coords.transform_to(Galactic)\n",
    "\n",
    "#gives postions \n",
    "X = (galactic.cartesian.x)/u.pc\n",
    "Y = (galactic.cartesian.y)/u.pc\n",
    "Z = (galactic.cartesian.z)/u.pc"
   ]
  },
  {
   "cell_type": "code",
   "execution_count": 6,
   "id": "c440bfa6",
   "metadata": {},
   "outputs": [],
   "source": [
    "# Create a dictionary with the results and the boundary parameters\n",
    "data = {\n",
    "    'source_id' : results['SOURCE_ID'],\n",
    "    'ra' : results['ra'],\n",
    "    'dec' : results['dec'],\n",
    "    'parallax' : results['parallax'],\n",
    "    'G_mag' : results['phot_g_mean_mag'],\n",
    "    'g_flux' : results['phot_g_mean_flux'],         # [e/s]\n",
    "    'BP_mag' : results['phot_bp_mean_mag'],\n",
    "    'bp_flux' : results['phot_bp_mean_flux'],       # [e/s]\n",
    "    'RP_mag' : results['phot_rp_mean_mag'],\n",
    "    'rp_flux' : results['phot_rp_mean_flux'],       # [e/s]\n",
    "    'WD_prob' : results['classprob_dsc_combmod_whitedwarf'],\n",
    "    'Binary_prob' : results['classprob_dsc_combmod_binarystar'],\n",
    "    'T_eff' : results['teff_gspphot'],\n",
    "    'lum_flame' : results['lum_flame'],\n",
    "    'radius_flame' : results['radius_flame'],\n",
    "    'mass_flame' : results['mass_flame'],\n",
    "    'X' : X,\n",
    "    'Y' : Y,\n",
    "    'Z' : Z \n",
    "}\n",
    "#df = pd.DataFrame(data)"
   ]
  },
  {
   "cell_type": "code",
   "execution_count": 7,
   "id": "dc00c5e0",
   "metadata": {},
   "outputs": [],
   "source": [
    "# plt.scatter(df['X'], df['Y'], c='k', s=5)\n",
    "# plt.xlabel('X axis (pc)')\n",
    "# plt.ylabel('Y axis (pc)')"
   ]
  },
  {
   "cell_type": "markdown",
   "id": "2adb0c4c",
   "metadata": {},
   "source": [
    "# Exposure Times"
   ]
  },
  {
   "cell_type": "code",
   "execution_count": 8,
   "id": "441b40c0",
   "metadata": {},
   "outputs": [],
   "source": [
    "# when the bands get saturated \n",
    "Sat_lim_UVB = 41300     #e\n",
    "Sat_lim_VIS = 41900     #e\n",
    "Sat_lim_NIR = 103000    #e\n",
    "# We decided to go with a SNR of 500 \n",
    "SNR = 500"
   ]
  },
  {
   "cell_type": "code",
   "execution_count": 9,
   "id": "19ea2f7f",
   "metadata": {},
   "outputs": [],
   "source": [
    "# # Testing the math\n",
    "# e_count = SNR**2\n",
    "\n",
    "# bp = df['bp_flux'][10] \n",
    "# g = df['g_flux'][10]\n",
    "# rp = df['rp_flux'][10]\n",
    "\n",
    "# # min exposure time per band \n",
    "# min_time_uvb = e_count / bp     #[sec]\n",
    "# print(min_time_uvb)\n",
    "# min_time_vis = e_count / g      #[sec]\n",
    "# min_time_nir = e_count / rp     #[sec]\n",
    "\n",
    "# # Time it takes for the filter to become saturated\n",
    "# S_time_uvb = Sat_lim_UVB / bp          #[sec]\n",
    "# print(S_time_uvb)\n",
    "# S_time_vis = Sat_lim_VIS / g           #[sec]\n",
    "# S_time_nir = Sat_lim_NIR / rp          #[sec]\n",
    "    \n",
    "# # Get the whole number of exposures to prevent saturation, then add 1\n",
    "# Num_exp_uvb = int(min_time_uvb // S_time_uvb ) + 1\n",
    "# print(Num_exp_uvb)\n",
    "# Num_exp_vis = int(min_time_vis // S_time_vis ) + 1\n",
    "# Num_exp_nir = int(min_time_nir // S_time_nir ) + 1\n",
    "\n",
    "# # Time for each exposure, based on what is smaller, saturation time or the min time \n",
    "# Time_per_uvb = min_time_uvb / Num_exp_uvb\n",
    "# print(Time_per_uvb)\n",
    "# Time_per_vis = min_time_vis / Num_exp_vis\n",
    "# Time_per_nir = min_time_nir / Num_exp_nir\n",
    "\n",
    "# print('UVB:', Num_exp_uvb, Time_per_uvb, (Num_exp_uvb * Time_per_uvb))\n",
    "# print('VIS:', Num_exp_vis, Time_per_vis, (Num_exp_vis * Time_per_vis))\n",
    "# print('NIR:', Num_exp_nir, Time_per_nir, (Num_exp_nir * Time_per_nir))\n",
    "\n",
    "# ### Cool it works lets make it a function to automate over all the candidates & append the values "
   ]
  },
  {
   "cell_type": "code",
   "execution_count": 10,
   "id": "bac2a173",
   "metadata": {},
   "outputs": [],
   "source": [
    "# SNR, next 3 are the flux for each source, next 3 are the saturation constants\n",
    "def min_exp(SNR, bp, g, rp, S_bp, S_g, S_rp):\n",
    "    # SNR = N**(1/2), therefore we need an electron count of \n",
    "    e_count = SNR**2\n",
    "\n",
    "    # min exposure time per band \n",
    "    min_time_uvb = e_count / bp     #[sec]\n",
    "    min_time_vis = e_count / g      #[sec]\n",
    "    min_time_nir = e_count / rp     #[sec]\n",
    "\n",
    "    # Time it takes for the filter to become saturated\n",
    "    S_time_uvb = S_bp / bp          #[sec]\n",
    "    S_time_vis = S_g / g            #[sec]\n",
    "    S_time_nir = S_rp / rp          #[sec]\n",
    "    \n",
    "    # Get the whole number of exposures to prevent saturation, then add 1\n",
    "    Num_exp_uvb = int(min_time_uvb // S_time_uvb ) + 1\n",
    "    Num_exp_vis = int(min_time_vis // S_time_vis ) + 1\n",
    "    Num_exp_nir = int(min_time_nir // S_time_nir ) + 1\n",
    "\n",
    "    # Time for each exposure \n",
    "    Time_per_uvb = min_time_uvb / Num_exp_uvb\n",
    "    Time_per_vis = min_time_vis / Num_exp_vis\n",
    "    Time_per_nir = min_time_nir / Num_exp_nir\n",
    "\n",
    "    return  {\n",
    "        'Num_exp_uvb': Num_exp_uvb,\n",
    "        'Time_per_uvb': Time_per_uvb,\n",
    "        'Total_time_uvb': Num_exp_uvb * Time_per_uvb,\n",
    "\n",
    "        'Num_exp_vis': Num_exp_vis,\n",
    "        'Time_per_vis': Time_per_vis,\n",
    "        'Total_time_vis': Num_exp_vis * Time_per_vis,\n",
    "\n",
    "        'Num_exp_nir': Num_exp_nir,\n",
    "        'Time_per_nir': Time_per_nir,\n",
    "        'Total_time_nir': Num_exp_nir * Time_per_nir,\n",
    "    }"
   ]
  },
  {
   "cell_type": "code",
   "execution_count": 11,
   "id": "82ac8909",
   "metadata": {},
   "outputs": [],
   "source": [
    "def times(row):\n",
    "    return min_exp(\n",
    "        SNR=SNR,\n",
    "        bp=row['bp_flux'],\n",
    "        g=row['g_flux'],\n",
    "        rp=row['rp_flux'],\n",
    "        S_bp=Sat_lim_UVB,\n",
    "        S_g=Sat_lim_VIS,\n",
    "        S_rp=Sat_lim_NIR\n",
    "    )\n",
    "\n",
    "# exp_results = df.apply(times, axis=1)\n",
    "\n",
    "# exp_df = pd.DataFrame(exp_results.tolist())\n",
    "# df = pd.concat([df, exp_df], axis=1)"
   ]
  },
  {
   "cell_type": "markdown",
   "id": "8c4b9dd0",
   "metadata": {},
   "source": [
    "# Saving the Data"
   ]
  },
  {
   "cell_type": "code",
   "execution_count": 12,
   "id": "371a1a2f",
   "metadata": {},
   "outputs": [],
   "source": [
    "#df.to_csv('Exposure_time_estimates.csv', index=False)"
   ]
  },
  {
   "cell_type": "markdown",
   "id": "d076e1f7",
   "metadata": {},
   "source": [
    "# Call on the file"
   ]
  },
  {
   "cell_type": "code",
   "execution_count": 13,
   "id": "13081e0c",
   "metadata": {},
   "outputs": [],
   "source": [
    "#df = pd.read_csv('/Users/izaihamartinez/Downloads/School/Observational Tech/Exposure_time_estimates.csv')\n",
    "df = pd.read_csv(r'C:\\Users\\izaih\\Downloads\\UA\\Courses\\UA-Obs-Tech\\Exposure_time_estimates.csv')"
   ]
  },
  {
   "cell_type": "markdown",
   "id": "78934509",
   "metadata": {},
   "source": [
    "# Looking at the RA & DEC "
   ]
  },
  {
   "cell_type": "code",
   "execution_count": 15,
   "id": "72c71b37",
   "metadata": {},
   "outputs": [
    {
     "data": {
      "text/plain": [
       "Text(0, 0.5, 'dec (deg)')"
      ]
     },
     "execution_count": 15,
     "metadata": {},
     "output_type": "execute_result"
    },
    {
     "data": {
      "image/png": "[encoded data removed]",
      "text/plain": [
       "<Figure size 640x480 with 1 Axes>"
      ]
     },
     "metadata": {},
     "output_type": "display_data"
    }
   ],
   "source": [
    "plt.scatter(df['ra'], df['dec'], c='k', s=5)\n",
    "plt.xlabel('ra (deg)')\n",
    "plt.ylabel('dec (deg)')"
   ]
  },
  {
   "cell_type": "markdown",
   "id": "2afcad8e",
   "metadata": {},
   "source": [
    "# Using Astroplan"
   ]
  },
  {
   "cell_type": "code",
   "execution_count": 16,
   "id": "7f8ad237",
   "metadata": {},
   "outputs": [],
   "source": [
    "#pip install astroplan"
   ]
  },
  {
   "cell_type": "code",
   "execution_count": 17,
   "id": "fe812ed4",
   "metadata": {},
   "outputs": [],
   "source": [
    "from astroplan import Observer \n",
    "from astroplan import FixedTarget\n",
    "from astroplan import time_grid_from_range\n",
    "from astropy.time import Time"
   ]
  },
  {
   "cell_type": "code",
   "execution_count": 18,
   "id": "e7f941ed",
   "metadata": {},
   "outputs": [],
   "source": [
    "# I need to set the location to VLT, it is at the Cerro Paranal, Mountain\n",
    "vlt_location = Observer.at_site('paranal')"
   ]
  },
  {
   "cell_type": "code",
   "execution_count": 19,
   "id": "5bbb274b",
   "metadata": {},
   "outputs": [],
   "source": [
    "# astroplan uses icrs coordinate system \n",
    "coords = [SkyCoord(ra=ra*u.deg, dec=dec*u.deg, frame='icrs') for ra, dec in zip(df['ra'], df['dec'])]\n",
    "\n",
    "# create a target list \n",
    "targets = [FixedTarget(coord=coord) for coord in coords]"
   ]
  },
  {
   "cell_type": "markdown",
   "id": "3e8a591d",
   "metadata": {},
   "source": [
    "- UTC is 5 hours ahead of Tuscaloosa \n",
    "- UTC is 4 hours ahead of VLT "
   ]
  },
  {
   "cell_type": "code",
   "execution_count": 20,
   "id": "d4815a44",
   "metadata": {},
   "outputs": [],
   "source": [
    "# Need to define the observing time (aka night time) \n",
    "start_time = Time.now()\n",
    "end_time = start_time + 365*u.d  # the next year\n",
    "time_ran = start_time, end_time\n",
    "time_range = time_grid_from_range(time_ran, time_resolution=0.5*u.hour)  # 30 minute intervals"
   ]
  },
  {
   "cell_type": "code",
   "execution_count": 21,
   "id": "7f97b548",
   "metadata": {},
   "outputs": [],
   "source": [
    "from astroplan.constraints import AtNightConstraint, AirmassConstraint\n",
    "# this will allow me to constrain the observations to the night time & airmass"
   ]
  },
  {
   "cell_type": "code",
   "execution_count": null,
   "id": "93e0ecdc",
   "metadata": {},
   "outputs": [],
   "source": [
    "# Define constraints\n",
    "nighttime_constraint = AtNightConstraint.twilight_civil()  # Civil twilight constraint\n",
    "airmass_constraint = AirmassConstraint(max=3)  # Max airmass constraint (using 3 from the astroplan website)\n",
    "\n",
    "# Combine constraints\n",
    "constraints = [nighttime_constraint, airmass_constraint]"
   ]
  },
  {
   "cell_type": "code",
   "execution_count": 23,
   "id": "c7516077",
   "metadata": {},
   "outputs": [],
   "source": [
    "from astroplan import ObservingBlock\n",
    "# this will allow for observing wrt the exposure times neeeded per object "
   ]
  },
  {
   "cell_type": "code",
   "execution_count": 26,
   "id": "cb350589",
   "metadata": {},
   "outputs": [],
   "source": [
    "# observing blocks for each object with the exposure times and number of exposures from above\n",
    "blocks = []\n",
    "priority = 1\n",
    "for idx, row in df.iterrows():\n",
    "    # RA and Dec for each target\n",
    "    target_coord = SkyCoord(ra=row['ra']*u.deg, dec=row['dec']*u.deg, frame='icrs')\n",
    "    target = FixedTarget(coord=target_coord)\n",
    "    \n",
    "    \n",
    "    # Use the calculated exposure time and number of exposures for each filter\n",
    "    block_uvb = ObservingBlock.from_exposures(\n",
    "        target, \n",
    "        priority, \n",
    "        time_per_exposure=row['Time_per_uvb']*u.second, \n",
    "        number_exposures=row['Num_exp_uvb'],\n",
    "        readout_time=10*u.second, \n",
    "        constraints=constraints\n",
    "    )\n",
    "    blocks.append(block_uvb)\n",
    "\n",
    "    block_vis = ObservingBlock.from_exposures(\n",
    "        target, \n",
    "        priority, \n",
    "        time_per_exposure=row['Time_per_vis']*u.second, \n",
    "        number_exposures=row['Num_exp_vis'],\n",
    "        readout_time=10*u.second, \n",
    "        constraints=constraints\n",
    "    )\n",
    "    blocks.append(block_vis)\n",
    "\n",
    "    block_nir = ObservingBlock.from_exposures(\n",
    "        target, \n",
    "        priority, \n",
    "        time_per_exposure=row['Time_per_nir']*u.second, \n",
    "        number_exposures=row['Num_exp_nir'],\n",
    "        readout_time=10*u.second, \n",
    "        constraints=constraints\n",
    "    )\n",
    "    blocks.append(block_nir)"
   ]
  },
  {
   "cell_type": "code",
   "execution_count": null,
   "id": "cf7c4e12",
   "metadata": {},
   "outputs": [],
   "source": []
  }
 ],
 "metadata": {
  "kernelspec": {
   "display_name": "base",
   "language": "python",
   "name": "python3"
  },
  "language_info": {
   "codemirror_mode": {
    "name": "ipython",
    "version": 3
   },
   "file_extension": ".py",
   "mimetype": "text/x-python",
   "name": "python",
   "nbconvert_exporter": "python",
   "pygments_lexer": "ipython3",
   "version": "3.11.7"
  }
 },
 "nbformat": 4,
 "nbformat_minor": 5
}
